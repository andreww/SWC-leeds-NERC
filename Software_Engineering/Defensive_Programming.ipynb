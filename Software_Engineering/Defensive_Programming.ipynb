{
 "metadata": {
  "name": ""
 },
 "nbformat": 3,
 "nbformat_minor": 0,
 "worksheets": [
  {
   "cells": [
    {
     "cell_type": "heading",
     "level": 2,
     "metadata": {},
     "source": [
      "Defensive Programming"
     ]
    },
    {
     "cell_type": "markdown",
     "metadata": {},
     "source": [
      "Our previous lessons have introduced the basic tools of programming:\n",
      "variables and lists,\n",
      "file I/O,\n",
      "loops,\n",
      "conditionals,\n",
      "and functions.\n",
      "What they *haven't* done is show us how to tell\n",
      "whether a program is getting the right answer,\n",
      "and how to tell if it's *still* getting the right answer\n",
      "as we make changes to it.\n",
      "\n",
      "To achieve that,\n",
      "we need to:\n",
      "\n",
      "*   write programs that check their own operation,\n",
      "*   write and run tests for widely-used functions, and\n",
      "*   make sure we know what \"correct\" actually means.\n",
      "\n",
      "The good news is,\n",
      "doing these things will speed up our programming,\n",
      "not slow it down.\n",
      "As in real carpentry&mdash;the kind done with lumber&mdash;the time saved\n",
      "by measuring carefully before cutting a piece of wood\n",
      "is much greater than the time that measuring takes."
     ]
    },
    {
     "cell_type": "markdown",
     "metadata": {},
     "source": [
      "#### Objectives\n",
      "\n",
      "*   Explain what an assertion is.\n",
      "*   Add assertions to programs that correctly check the program's state.\n",
      "*   Correctly add precondition and postcondition assertions to functions.\n",
      "*   Explain what test-driven development is, and use it when creating new functions.\n",
      "*   Explain why variables should be initialised using actual data values rather than arbitrary constants.\n",
      "*   Debug code containing an error systematically.\n",
      "\n",
      "Here's a useful guide by [Software Sustainability Institute]( http://software.ac.uk/) on the things to be kept in mind while [developing you code defensibly](http://software.ac.uk/resources/guides/defending-your-code-against-dependency-problems#node-252).\n"
     ]
    },
    {
     "cell_type": "markdown",
     "metadata": {},
     "source": [
      "### Assertions\n",
      "\n",
      "\n",
      "The first step toward getting the right answers from our programs\n",
      "is to assume that mistakes *will* happen\n",
      "and to guard against them.\n",
      "This is called defensive programming,\n",
      "and the most common way to do it is to add assertions to our code\n",
      "so that it checks itself as it runs.\n",
      "An assertion is simply a statement that something must be true at a certain point in a program.\n",
      "When Python sees one,\n",
      "it checks that the assertion's condition.\n",
      "If it's true,\n",
      "Python does nothing,\n",
      "but if it's false,\n",
      "Python halts the program immediately\n",
      "and prints the error message provided.\n",
      "For example,\n",
      "this piece of code halts as soon as the loop encounters a value that isn't positive:"
     ]
    },
    {
     "cell_type": "code",
     "collapsed": true,
     "input": [
      "numbers = [1.5, 2.3, 0.7, -0.001, 4.4]\n",
      "total = 0.0\n",
      "for n in numbers:\n",
      "    assert n >= 0.0, 'Data should only contain positive values'\n",
      "    total += n\n",
      "print 'total is:', total"
     ],
     "language": "python",
     "metadata": {},
     "outputs": [
      {
       "output_type": "stream",
       "stream": "stdout",
       "text": [
        "total is: 8.901\n"
       ]
      }
     ],
     "prompt_number": 2
    },
    {
     "cell_type": "markdown",
     "metadata": {},
     "source": [
      "Programs like the Firefox browser are full of assertions:\n",
      "10-20% of the code they contain\n",
      "are there to check that the other 80-90% are working correctly.\n",
      "Broadly speaking,\n",
      "assertions fall into three categories:\n",
      "\n",
      "* A precondition is something that must be true at the start of a function in order for it to work correctly.\n",
      "* A postcondition is something that the function guarantees is true when it finishes.\n",
      "* An invariant is something that is always true at a particular point inside a piece of code.\n",
      "\n",
      "For example,\n",
      "suppose we are representing rectangles using a tuple of four coordinates `(x0, y0, x1, y1)`.\n",
      "In order to do some calculations,\n",
      "we need to normalize the rectangle so that it is at the origin\n",
      "and 1.0 units long on its longest axis.\n",
      "This function does that,\n",
      "but checks that its input is correctly formatted and that its result makes sense:"
     ]
    },
    {
     "cell_type": "code",
     "collapsed": false,
     "input": [
      "def normalize_rectangle(rect):\n",
      "    '''Normalizes a rectangle so that it is at the origin and 1.0 units long on its longest axis.'''\n",
      "    assert len(rect) == 4, 'Rectangles must contain 4 coordinates'\n",
      "    x0, y0, x1, y1 = rect\n",
      "    assert x0 <x1, 'Invalid X coordinates'\n",
      "    assert y0 <y1, 'Invalid Y coordinates'\n",
      "    \n",
      "    dx = x1 - x0\n",
      "    dy = y1 - y0\n",
      "    if dx >dy:\n",
      "        scaled = float(dx) / dy\n",
      "        upper_x, upper_y = 1.0, scaled\n",
      "    else:\n",
      "        scaled = float(dx) / dy\n",
      "        upper_x, upper_y = scaled, 1.0\n",
      "\n",
      "    assert 0 <upper_x <= 1.0, 'Calculated upper X coordinate invalid'\n",
      "    assert 0 <upper_y <= 1.0, 'Calculated upper Y coordinate invalid'\n",
      "\n",
      "    return (0, 0, upper_x, upper_y)"
     ],
     "language": "python",
     "metadata": {},
     "outputs": []
    },
    {
     "cell_type": "markdown",
     "metadata": {},
     "source": [
      "The preconditions on lines 2, 4, and 5 catch invalid inputs:"
     ]
    },
    {
     "cell_type": "code",
     "collapsed": false,
     "input": [
      "print normalize_rectangle( (0.0, 1.0, 2.0) ) # missing the fourth coordinate"
     ],
     "language": "python",
     "metadata": {},
     "outputs": []
    },
    {
     "cell_type": "code",
     "collapsed": false,
     "input": [
      "print normalize_rectangle( (4.0, 2.0, 1.0, 5.0) ) # X axis inverted"
     ],
     "language": "python",
     "metadata": {},
     "outputs": []
    },
    {
     "cell_type": "markdown",
     "metadata": {},
     "source": [
      "The post-conditions help us catch bugs by telling us when our calculations cannot have been correct.\n",
      "For example,\n",
      "if we normalize a rectangle that is taller than it is wide everything seems OK:"
     ]
    },
    {
     "cell_type": "code",
     "collapsed": false,
     "input": [
      "print normalize_rectangle( (0.0, 0.0, 1.0, 5.0) )"
     ],
     "language": "python",
     "metadata": {},
     "outputs": []
    },
    {
     "cell_type": "markdown",
     "metadata": {},
     "source": [
      "but if we normalize one that's wider than it is tall,\n",
      "the assertion is triggered:"
     ]
    },
    {
     "cell_type": "code",
     "collapsed": false,
     "input": [
      "print normalize_rectangle( (0.0, 0.0, 5.0, 1.0) )"
     ],
     "language": "python",
     "metadata": {},
     "outputs": []
    },
    {
     "cell_type": "markdown",
     "metadata": {},
     "source": [
      "Re-reading our function,\n",
      "we realize that line 10 should divide `dy` by `dx` rather than `dx` by `dy`.\n",
      "(You can display line numbers by typing Ctrl-M, then L.)\n",
      "If we had left out the assertion at the end of the function,\n",
      "we would have created and returned something that had the right shape as a valid answer,\n",
      "but wasn't.\n",
      "Detecting and debugging that would almost certainly have taken more time in the long run\n",
      "than writing the assertion.\n",
      "\n",
      "But assertions aren't just about catching errors:\n",
      "they also help people understand programs.\n",
      "Each assertion gives the person reading the program\n",
      "a chance to check (consciously or otherwise)\n",
      "that their understanding matches what the code is doing.\n",
      "\n",
      "Most good programmers follow two rules when adding assertions to their code.\n",
      "The first is, \"fail early, fail often\".\n",
      "The greater the distance between when and where an error occurs and when it's noticed,\n",
      "the harder the error will be to debug,\n",
      "so good code catches mistakes as early as possible.\n",
      "\n",
      "The second rule is, \"turn bugs into assertions or tests\".\n",
      "If you made a mistake in a piece of code,\n",
      "the odds are good that you have made other mistakes nearby,\n",
      "or will make the same mistake (or a related one)\n",
      "the next time you change it.\n",
      "Writing assertions to check that you haven't regressed\n",
      "(i.e., haven't re-introduced an old problem)\n",
      "can save a lot of time in the long run,\n",
      "and helps to warn people who are reading the code\n",
      "(including your future self)\n",
      "that this bit is tricky."
     ]
    },
    {
     "cell_type": "markdown",
     "metadata": {},
     "source": [
      "#### Challenges\n",
      "\n",
      "1. Suppose you are writing a function called `average` that calculates the average of the numbers in a list.\n",
      " What pre-conditions and post-conditions would you write for it?\n",
      " Compare your answer to your neighbor's:\n",
      " can you think of a function that will pass your tests but not hers or vice versa?\n"
     ]
    },
    {
     "cell_type": "code",
     "collapsed": false,
     "input": [],
     "language": "python",
     "metadata": {},
     "outputs": []
    },
    {
     "cell_type": "markdown",
     "metadata": {},
     "source": [
      "2. Explain in words what the assertions in this code check,\n",
      " and for each one,\n",
      " give an example of input that will make that assertion fail.\n",
      " \n",
      "  ~~~python\n",
      "  def running(values):\n",
      "      assert len(values) > 0\n",
      "      result = [values[0]]\n",
      "      for v in values[1:]:\n",
      "          assert result[-1] >= 0\n",
      "          result.append(result[-1] + v)\n",
      "          assert result[-1] >= result[0]\n",
      "      return result\n",
      "  ~~~"
     ]
    },
    {
     "cell_type": "code",
     "collapsed": false,
     "input": [],
     "language": "python",
     "metadata": {},
     "outputs": []
    }
   ],
   "metadata": {}
  }
 ]
}